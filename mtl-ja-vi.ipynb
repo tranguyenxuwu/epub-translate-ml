{
 "cells": [
  {
   "cell_type": "code",
   "execution_count": null,
   "metadata": {
    "cellView": "form",
    "id": "setup_imports"
   },
   "outputs": [],
   "source": [
    "# @title Setup và Import thư viện\n",
    "%pip install transformers\n",
    "%pip install flask_ngrok\n",
    "%pip install flask-cors\n",
    "%pip install pyngrok\n",
    "\n",
    "# Restart runtime nếu đây là lần đầu cài đặt các package\n",
    "import os\n",
    "if not os.path.exists('/root/.ngrok2/ngrok.yml'):\n",
    "    print(\"Please restart runtime after installing packages!\")\n",
    "\n",
    "import torch\n",
    "from transformers import AutoTokenizer, AutoModelForSeq2SeqTranslation\n",
    "from flask import Flask, request, jsonify\n",
    "from flask_ngrok import run_with_ngrok\n",
    "from flask_cors import CORS\n",
    "from pyngrok import ngrok\n",
    "import logging\n",
    "import warnings\n",
    "warnings.filterwarnings('ignore')\n",
    "\n",
    "# Setup logging\n",
    "logging.basicConfig(\n",
    "    level=logging.INFO,\n",
    "    format='%(asctime)s - %(levelname)s - %(message)s'\n",
    ")"
   ]
  },
  {
   "cell_type": "code",
   "execution_count": null,
   "metadata": {
    "cellView": "form",
    "id": "ngrok_setup"
   },
   "outputs": [],
   "source": [
    "# @title Setup Ngrok Authentication\n",
    "# @markdown Nhập Ngrok Authtoken của bạn (đăng ký tại ngrok.com)\n",
    "NGROK_AUTH_TOKEN = \"\" # @param {type:\"string\"}\n",
    "\n",
    "if NGROK_AUTH_TOKEN:\n",
    "    os.system(f'ngrok authtoken {NGROK_AUTH_TOKEN}')\n",
    "else:\n",
    "    print(\"Please provide your ngrok authtoken!\")"
   ]
  },
  {
   "cell_type": "code",
   "execution_count": null,
   "metadata": {
    "cellView": "form",
    "id": "load_model"
   },
   "outputs": [],
   "source": [
    "# @title Khởi tạo model và tokenizer\n",
    "# @title Initialize model and tokenizer \n",
    "def load_model():\n",
    "    try:\n",
    "        logging.info(\"Loading model and tokenizer...\")\n",
    "        model_name = \"Helsinki-NLP/opus-mt-ja-vi\"\n",
    "        tokenizer = AutoTokenizer.from_pretrained(model_name)\n",
    "        model = AutoModelForSeq2SeqTranslation.from_pretrained(model_name)\n",
    "        logging.info(\"Model loaded successfully\")\n",
    "        return tokenizer, model\n",
    "    except Exception as e:\n",
    "        logging.error(f\"Error loading model: {str(e)}\")\n",
    "        raise\n",
    "\n",
    "tokenizer, model = load_model()\n",
    "device = torch.device('cuda' if torch.cuda.is_available() else 'cpu')\n",
    "logging.info(f\"Using device: {device}\")\n",
    "model = model.to(device)"
   ]
  },
  {
   "cell_type": "code",
   "execution_count": null,
   "metadata": {
    "cellView": "form",
    "id": "translate_function"
   },
   "outputs": [],
   "source": [
    "# @title Hàm dịch văn bản\n",
    "def translate_text(text):\n",
    "    try:\n",
    "        # Tokenize\n",
    "        inputs = tokenizer(text, return_tensors=\"pt\", padding=True).to(device)\n",
    "        \n",
    "        # Generate translation\n",
    "        with torch.no_grad():\n",
    "            translated = model.generate(**inputs, max_length=512)\n",
    "        \n",
    "        # Decode\n",
    "        translated_text = tokenizer.batch_decode(translated, skip_special_tokens=True)[0]\n",
    "        \n",
    "        return translated_text\n",
    "    except Exception as e:\n",
    "        logging.error(f\"Translation error: {str(e)}\")\n",
    "        raise"
   ]
  },
  {
   "cell_type": "code",
   "execution_count": null,
   "metadata": {
    "cellView": "form",
    "id": "flask_app"
   },
   "outputs": [],
   "source": [
    "# @title Khởi tạo Flask app\n",
    "app = Flask(__name__)\n",
    "CORS(app)\n",
    "\n",
    "# Health check endpoint\n",
    "@app.route('/health', methods=['GET'])\n",
    "def health_check():\n",
    "    return jsonify({'status': 'healthy', 'model': 'marianMT-finetuned-en-vi'})\n",
    "\n",
    "@app.route('/translate', methods=['POST'])\n",
    "def translate():\n",
    "    try:\n",
    "        data = request.get_json()\n",
    "        \n",
    "        if not data:\n",
    "            return jsonify({'error': 'No JSON data provided'}), 400\n",
    "            \n",
    "        if 'text' not in data:\n",
    "            return jsonify({'error': 'Missing text field'}), 400\n",
    "            \n",
    "        source_text = data['text']\n",
    "        \n",
    "        if not isinstance(source_text, str):\n",
    "            return jsonify({'error': 'Text must be a string'}), 400\n",
    "            \n",
    "        if not source_text.strip():\n",
    "            return jsonify({'error': 'Text cannot be empty'}), 400\n",
    "        \n",
    "        logging.info(f\"Processing translation request: {source_text[:100]}...\")\n",
    "        translated_text = translate_text(source_text)\n",
    "        logging.info(\"Translation completed successfully\")\n",
    "        \n",
    "        return jsonify({\n",
    "            'source_text': source_text,\n",
    "            'translated_text': translated_text\n",
    "        })\n",
    "        \n",
    "    except Exception as e:\n",
    "        logging.error(f\"Error processing request: {str(e)}\")\n",
    "        return jsonify({'error': str(e)}), 500"
   ]
  },
  {
   "cell_type": "code",
   "execution_count": null,
   "metadata": {
    "cellView": "form",
    "id": "run_server"
   },
   "outputs": [],
   "source": [
    "# @title Chạy server\n",
    "# Đóng tất cả tunnel hiện có\n",
    "ngrok.kill()\n",
    "\n",
    "# Tạo tunnel mới\n",
    "public_url = ngrok.connect(5000)\n",
    "print(f\"Public URL: {public_url}\")\n",
    "\n",
    "# Chạy Flask app\n",
    "if __name__ == '__main__':\n",
    "    logging.info(\"Starting server...\")\n",
    "    app.run(port=5000)"
   ]
  }
 ],
 "metadata": {
  "colab": {
   "name": "MarianMT_Translation_API.ipynb",
   "provenance": []
  },
  "kernelspec": {
   "display_name": "Python 3",
   "language": "python",
   "name": "python3"
  },
  "language_info": {
   "codemirror_mode": {
    "name": "ipython",
    "version": 3
   },
   "file_extension": ".py",
   "mimetype": "text/x-python",
   "name": "python",
   "nbconvert_exporter": "python",
   "pygments_lexer": "ipython3",
   "version": "3.8.0"
  }
 },
 "nbformat": 4,
 "nbformat_minor": 4
}
